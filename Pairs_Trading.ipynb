{
 "cells": [
  {
   "cell_type": "markdown",
   "metadata": {},
   "source": [
    "## Pairs Trading\n",
    "\n",
    "This notebook contains sample code on testing out a pairs strategy using cointegration analysis\n",
    "\n",
    "### Cointegration\n",
    "\n",
    "Cointegration anaysis is a technique that is widely used. It can be used to find trading strategies based on the property of mean reversion. Cointegration analysis aims to find a grouping of time series (in this case, closing prices of stocks) that behaves as a stationary, or mean reverting process. When this process is below the mean, we go long. When it's above the mean, we go short the basket.\n",
    "\n",
    "For financial data, it can be shown that returns are stationary but prices are not (see my R statistics code samples for this). However, we can find linear combination of price processes so that that such combination is stationary. The vector of coefficients we solve for is known as a cointegrating vector.\n",
    "\n",
    "We will consider all of 2022, which as we know had significant turbulence, which should help our results look not-so-ideal."
   ]
  },
  {
   "cell_type": "code",
   "execution_count": 2,
   "metadata": {},
   "outputs": [],
   "source": [
    "import numpy as np\n",
    "import pandas as pd\n",
    "\n",
    "# We will uuse statsmodels library which can check for cointegration between 2 series\n",
    "# coint uses the augmented Engle-Granger two step test\n",
    "# https://www.statsmodels.org/dev/generated/statsmodels.tsa.stattools.coint.html\n",
    "import statsmodels.api as sm\n",
    "from statsmodels.tsa.stattools import coint\n",
    "from statsmodels.regression.rolling import RollingOLS\n",
    "\n",
    "import yfinance as yf\n",
    "import seaborn\n",
    "import matplotlib.pyplot as plt"
   ]
  },
  {
   "cell_type": "code",
   "execution_count": 14,
   "metadata": {},
   "outputs": [
    {
     "name": "stdout",
     "output_type": "stream",
     "text": [
      "[*********************100%***********************]  9 of 9 completed\n"
     ]
    }
   ],
   "source": [
    "#Some popular stocks\n",
    "symbol_list = ['META', 'AMZN', 'AAPL', 'NFLX', 'GOOG', 'TSLA', 'QCOM', 'JPM', 'GS']\n",
    "\n",
    "data = yf.download(\n",
    "    symbol_list, \n",
    "    start='2022-01-01', \n",
    "    end='2023-01-01'\n",
    ")['Adj Close']"
   ]
  },
  {
   "cell_type": "code",
   "execution_count": 39,
   "metadata": {},
   "outputs": [],
   "source": [
    "\n",
    "\n",
    "##Pairwise cointegration analysis\n",
    "## O(n^2) algorithm\n",
    "#TODO: Apply multicointegration, e.g. Phillips-Ouliaris cointegration test\n",
    "#Can be 0.10 to be more permissive, or 0.025, 0.01 to be more restrictive\n",
    "\n",
    "def find_cointegrated_pairs(data, alpha_critical = 0.05):\n",
    "    rows, cols = data.shape\n",
    "    score_matrix = np.zeros(shape = (cols, cols))\n",
    "    pvalue_matrix = np.ones(shape = (cols, cols))\n",
    "\n",
    "    #Note that this returns in alphabetical order. keys[0] is AAPL. symbol_list[0] is META. The yfinance package returns in alphabetical order, openbb will return in the order you give it\n",
    "    #keep it consistent!\n",
    "    keys = data.keys()\n",
    "    pairs = []\n",
    "\n",
    "    for i in range(cols):\n",
    "        for j in range(i+1, cols):\n",
    "            #Extract the two time series\n",
    "            S1 = data[keys[i]]\n",
    "            S2 = data[keys[j]]\n",
    "\n",
    "            #See function spec. result is a tuple of the t-stat, the p-value, and the critical values for the test statistic at 1/5/10 levels\n",
    "            #TODO: Can improve to use result[2] and a vecotrized check instead of a manual check with alpha_critical\n",
    "            result = coint(S1, S2)\n",
    "            score = result[0]\n",
    "            pvalue = result[1]\n",
    "            score_matrix[i,j] = score\n",
    "            pvalue_matrix[i,j] = pvalue\n",
    "\n",
    "            if pvalue < alpha_critical:\n",
    "                pairs.append((keys[i], keys[j]))\n",
    "        \n",
    "    return score_matrix, pvalue_matrix, pairs\n",
    "\n",
    "alpha_critical = 0.05\n",
    "scores, pvalues, pairs = find_cointegrated_pairs(data, alpha_critical = alpha_critical)"
   ]
  },
  {
   "cell_type": "markdown",
   "metadata": {},
   "source": [
    "Now that we have our results, let's plot them to visualize it.\n",
    "\n",
    "We can use a heatmap from seaborn. What we are doing is plotting the pvalues matrix. We are applying a color map to it to visualize the difference in pvalues. In this example, we choose red as the highest values and green as the lowest values. To prevent the whole thing from being colored, we apply a mask to ignore all pvalues above our alpha_critical value."
   ]
  },
  {
   "cell_type": "code",
   "execution_count": 43,
   "metadata": {},
   "outputs": [
    {
     "name": "stdout",
     "output_type": "stream",
     "text": [
      "[('AAPL', 'AMZN'), ('META', 'QCOM')]\n"
     ]
    },
    {
     "data": {
      "image/png": "[encoded data removed]",
      "text/plain": [
       "<Figure size 640x480 with 2 Axes>"
      ]
     },
     "metadata": {},
     "output_type": "display_data"
    }
   ],
   "source": [
    "seaborn.heatmap(\n",
    "    pvalues, \n",
    "    xticklabels=keys, \n",
    "    yticklabels=keys, \n",
    "    cmap='RdYlGn_r', \n",
    "    mask = (pvalues >= alpha_critical)\n",
    ")\n",
    "\n",
    "print(pairs)"
   ]
  },
  {
   "cell_type": "markdown",
   "metadata": {},
   "source": [
    "We see that we have two cointegrated series, AMZN/AAPL, and META/QCOM. We see this from our pairs variable and from the plot. NOTE: Remember, we used keys in our function, so we specify keys in the argument for this plot. Had we used symbol_list, we would have incorrect labels that wouldn't match pairs (try it on your end to see).\n",
    "\n",
    "Let's look more closely at META/QCOM since it has a lower p-value."
   ]
  },
  {
   "cell_type": "code",
   "execution_count": 41,
   "metadata": {},
   "outputs": [
    {
     "data": {
      "text/plain": [
       "[('AAPL', 'AMZN'), ('META', 'QCOM')]"
      ]
     },
     "execution_count": 41,
     "metadata": {},
     "output_type": "execute_result"
    }
   ],
   "source": []
  },
  {
   "cell_type": "markdown",
   "metadata": {},
   "source": []
  }
 ],
 "metadata": {
  "kernelspec": {
   "display_name": "obb",
   "language": "python",
   "name": "python3"
  },
  "language_info": {
   "codemirror_mode": {
    "name": "ipython",
    "version": 3
   },
   "file_extension": ".py",
   "mimetype": "text/x-python",
   "name": "python",
   "nbconvert_exporter": "python",
   "pygments_lexer": "ipython3",
   "version": "3.9.13"
  },
  "orig_nbformat": 4
 },
 "nbformat": 4,
 "nbformat_minor": 2
}
